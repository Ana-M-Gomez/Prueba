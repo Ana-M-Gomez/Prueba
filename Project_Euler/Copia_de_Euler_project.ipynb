{
  "nbformat": 4,
  "nbformat_minor": 0,
  "metadata": {
    "colab": {
      "name": "Copia de Euler project",
      "provenance": [],
      "authorship_tag": "ABX9TyMRVYHowWjaHr+6RA3+YFnp",
      "include_colab_link": true
    },
    "kernelspec": {
      "name": "python3",
      "display_name": "Python 3"
    },
    "language_info": {
      "name": "python"
    }
  },
  "cells": [
    {
      "cell_type": "markdown",
      "metadata": {
        "id": "view-in-github",
        "colab_type": "text"
      },
      "source": [
        "<a href=\"https://colab.research.google.com/github/Ana-M-Gomez/Prueba/blob/main/Project_Euler/Copia_de_Euler_project.ipynb\" target=\"_parent\"><img src=\"https://colab.research.google.com/assets/colab-badge.svg\" alt=\"Open In Colab\"/></a>"
      ]
    },
    {
      "cell_type": "code",
      "execution_count": null,
      "metadata": {
        "id": "2XPRRQ5srTyT"
      },
      "outputs": [],
      "source": [
        "#suma multiplos de 3 y 5\n",
        "x=0\n",
        "sum=0\n",
        "for x in range(1,1000):\n",
        "  if x%3==0 or x%5==0:\n",
        "    sum=sum+x\n",
        "\n",
        "print(sum)"
      ]
    },
    {
      "cell_type": "code",
      "source": [
        "#números primos\n",
        "x=300\n",
        "list=[]\n",
        "for y in range(1,300):\n",
        "  if x%y==0:\n",
        "    list.append(y)\n",
        "primos=[]\n",
        "no_primos=[]\n",
        "for numero in list:\n",
        "  valor= range(2,numero)\n",
        "  contador = 0\n",
        "  for n in valor:\n",
        "    if numero % n == 0:\n",
        "      contador +=1\n",
        "  if contador > 0 :\n",
        "    no_primos.append(numero)\n",
        "  else:\n",
        "    if numero!=1:\n",
        "      primos.append(numero)\n",
        "\n",
        "mayor=primos[0]\n",
        "for m in range(1,len(primos)):\n",
        "    if primos[m]>mayor:\n",
        "        mayor=primos[m]\n",
        "print(mayor)"
      ],
      "metadata": {
        "id": "IyD7GuS8e7-J"
      },
      "execution_count": null,
      "outputs": []
    },
    {
      "cell_type": "code",
      "source": [
        "#suma pares de la serie fibonacci\n",
        "def suma_paresfib_menoresque(n):\n",
        "  ultimo=1\n",
        "  actual=2\n",
        "  suma=2\n",
        "  while (actual<n):\n",
        "    penultimo=ultimo\n",
        "    ultimo=actual\n",
        "    actual=ultimo+penultimo\n",
        "#    print(actual, end=' , ')\n",
        "    if(actual%2==0):\n",
        "      suma=suma+actual\n",
        "  return suma\n",
        "print('suma= ',suma_paresfib_menoresque(4000000))"
      ],
      "metadata": {
        "colab": {
          "base_uri": "https://localhost:8080/"
        },
        "id": "hjAFBnm47KUM",
        "outputId": "a67dff94-859e-4347-8337-b3bc0830133c"
      },
      "execution_count": null,
      "outputs": [
        {
          "output_type": "stream",
          "name": "stdout",
          "text": [
            "suma=  4613732\n"
          ]
        }
      ]
    },
    {
      "cell_type": "code",
      "source": [
        "#Número palindrómico\n",
        "ans = max(i * j\n",
        "for i in range(100, 1000)\n",
        "\tfor j in range(100, 1000)\n",
        "\t\tif str(i * j) == str(i * j)[ : : -1])\n",
        "print(str(ans))"
      ],
      "metadata": {
        "colab": {
          "base_uri": "https://localhost:8080/"
        },
        "id": "ekMLYsKAYKaw",
        "outputId": "a633f31b-3321-457d-a8a6-b2c94a26779d"
      },
      "execution_count": null,
      "outputs": [
        {
          "output_type": "stream",
          "name": "stdout",
          "text": [
            "906609\n"
          ]
        }
      ]
    },
    {
      "cell_type": "code",
      "source": [
        "#Mínimo común múltiplo\n",
        "#a*b=MCM*mcd luego MCM=a*b/mcd\n",
        "import math\n",
        "j = 1\n",
        "for i in range(1, 21):\n",
        "  j=j*int(i/math.gcd(i,j))\n",
        "print(j)"
      ],
      "metadata": {
        "colab": {
          "base_uri": "https://localhost:8080/"
        },
        "id": "slktNbuwZhkV",
        "outputId": "918d0d8d-083b-4c5a-b8c9-67ea66c47821"
      },
      "execution_count": null,
      "outputs": [
        {
          "output_type": "stream",
          "name": "stdout",
          "text": [
            "232792560\n"
          ]
        }
      ]
    },
    {
      "cell_type": "code",
      "source": [
        "#Diferencia de la suma de los cuadrados y el cuadrado de la suma\n",
        "x=int(input('Ingrese el número hasta el que va a trabajar: ',))\n",
        "S=sum(m for m in range(1,x+1)) #suma de los números hasta x\n",
        "CS=S**2 #cuadrado de la suma\n",
        "SC=sum(n**2 for n in range(1,x+1)) #suma de los cuadrados\n",
        "R=CS-SC #resultado\n",
        "print(R)"
      ],
      "metadata": {
        "colab": {
          "base_uri": "https://localhost:8080/"
        },
        "id": "GAIbv3LhgXg0",
        "outputId": "336b3cff-3c87-4fea-92cc-84830b8cfd00"
      },
      "execution_count": null,
      "outputs": [
        {
          "output_type": "stream",
          "name": "stdout",
          "text": [
            "Ingrese el número hasta el que va a trabajar: 100\n",
            "25164150\n"
          ]
        }
      ]
    },
    {
      "cell_type": "code",
      "source": [
        "#enésimo número primo\n",
        "def primalidad(posible_primo):\n",
        "  factor=1\n",
        "  posible_factor=2;\n",
        "  es_primo= True\n",
        "  while (posible_factor*posible_factor <= posible_primo):\n",
        "    residuo= posible_primo % posible_factor;\n",
        "    if(residuo==0): \n",
        "      factor=posible_factor\n",
        "      es_primo=False\n",
        "      break\n",
        "    posible_factor=posible_factor+1\n",
        "  return es_primo\n",
        "x=int(input('Ingrese qué número primo desea ver: ',))\n",
        "c=2\n",
        "contador=1\n",
        "while contador<=x:\n",
        "  if primalidad(c):\n",
        "    contador=contador+1\n",
        "    c=c+1\n",
        "print(c)"
      ],
      "metadata": {
        "id": "5uhsleKUj4RW"
      },
      "execution_count": null,
      "outputs": []
    },
    {
      "cell_type": "code",
      "source": [
        "#Tripla pitagórico especial\n",
        "x= 1000\n",
        "for a in range(1, x + 1):\n",
        "  for b in range(a + 1, x + 1):\n",
        "    c = x - a - b\n",
        "    if a**2 + b**2 == c**2:\n",
        "      print(a * b * c)"
      ],
      "metadata": {
        "colab": {
          "base_uri": "https://localhost:8080/"
        },
        "id": "TEDBzjRPrAoG",
        "outputId": "f8985f21-f14e-4896-9260-cca69a4fc052"
      },
      "execution_count": null,
      "outputs": [
        {
          "output_type": "stream",
          "name": "stdout",
          "text": [
            "31875000\n"
          ]
        }
      ]
    },
    {
      "cell_type": "code",
      "source": [
        "#Suma de primos\n",
        "def primalidad(posible_primo):\n",
        "  factor=1\n",
        "  posible_factor=2;\n",
        "  es_primo= True\n",
        "  while (posible_factor*posible_factor <= posible_primo):\n",
        "    residuo= posible_primo % posible_factor;\n",
        "    if(residuo==0): \n",
        "      factor=posible_factor\n",
        "      es_primo=False\n",
        "      break\n",
        "    posible_factor=posible_factor+1\n",
        "  return es_primo\n",
        "a=0\n",
        "for i in range(2,2000000):\n",
        "  if primalidad(i):\n",
        "    a=i+a\n",
        "print(a)"
      ],
      "metadata": {
        "colab": {
          "base_uri": "https://localhost:8080/"
        },
        "id": "HJRFw7zLuMSb",
        "outputId": "6e42258d-796b-4b74-e684-817287f2f22f"
      },
      "execution_count": null,
      "outputs": [
        {
          "output_type": "stream",
          "name": "stdout",
          "text": [
            "142913828922\n"
          ]
        }
      ]
    },
    {
      "cell_type": "code",
      "source": [
        "NUMBERS = [\n",
        "\t37107287533902102798797998220837590246510135740250,\n",
        "\t46376937677490009712648124896970078050417018260538,\n",
        "\t74324986199524741059474233309513058123726617309629,\n",
        "\t91942213363574161572522430563301811072406154908250,\n",
        "\t23067588207539346171171980310421047513778063246676,\n",
        "\t89261670696623633820136378418383684178734361726757,\n",
        "\t28112879812849979408065481931592621691275889832738,\n",
        "\t44274228917432520321923589422876796487670272189318,\n",
        "\t47451445736001306439091167216856844588711603153276,\n",
        "\t70386486105843025439939619828917593665686757934951,\n",
        "\t62176457141856560629502157223196586755079324193331,\n",
        "\t64906352462741904929101432445813822663347944758178,\n",
        "\t92575867718337217661963751590579239728245598838407,\n",
        "\t58203565325359399008402633568948830189458628227828,\n",
        "\t80181199384826282014278194139940567587151170094390,\n",
        "\t35398664372827112653829987240784473053190104293586,\n",
        "\t86515506006295864861532075273371959191420517255829,\n",
        "\t71693888707715466499115593487603532921714970056938,\n",
        "\t54370070576826684624621495650076471787294438377604,\n",
        "\t53282654108756828443191190634694037855217779295145,\n",
        "\t36123272525000296071075082563815656710885258350721,\n",
        "\t45876576172410976447339110607218265236877223636045,\n",
        "\t17423706905851860660448207621209813287860733969412,\n",
        "\t81142660418086830619328460811191061556940512689692,\n",
        "\t51934325451728388641918047049293215058642563049483,\n",
        "\t62467221648435076201727918039944693004732956340691,\n",
        "\t15732444386908125794514089057706229429197107928209,\n",
        "\t55037687525678773091862540744969844508330393682126,\n",
        "\t18336384825330154686196124348767681297534375946515,\n",
        "\t80386287592878490201521685554828717201219257766954,\n",
        "\t78182833757993103614740356856449095527097864797581,\n",
        "\t16726320100436897842553539920931837441497806860984,\n",
        "\t48403098129077791799088218795327364475675590848030,\n",
        "\t87086987551392711854517078544161852424320693150332,\n",
        "\t59959406895756536782107074926966537676326235447210,\n",
        "\t69793950679652694742597709739166693763042633987085,\n",
        "\t41052684708299085211399427365734116182760315001271,\n",
        "\t65378607361501080857009149939512557028198746004375,\n",
        "\t35829035317434717326932123578154982629742552737307,\n",
        "\t94953759765105305946966067683156574377167401875275,\n",
        "\t88902802571733229619176668713819931811048770190271,\n",
        "\t25267680276078003013678680992525463401061632866526,\n",
        "\t36270218540497705585629946580636237993140746255962,\n",
        "\t24074486908231174977792365466257246923322810917141,\n",
        "\t91430288197103288597806669760892938638285025333403,\n",
        "\t34413065578016127815921815005561868836468420090470,\n",
        "\t23053081172816430487623791969842487255036638784583,\n",
        "\t11487696932154902810424020138335124462181441773470,\n",
        "\t63783299490636259666498587618221225225512486764533,\n",
        "\t67720186971698544312419572409913959008952310058822,\n",
        "\t95548255300263520781532296796249481641953868218774,\n",
        "\t76085327132285723110424803456124867697064507995236,\n",
        "\t37774242535411291684276865538926205024910326572967,\n",
        "\t23701913275725675285653248258265463092207058596522,\n",
        "\t29798860272258331913126375147341994889534765745501,\n",
        "\t18495701454879288984856827726077713721403798879715,\n",
        "\t38298203783031473527721580348144513491373226651381,\n",
        "\t34829543829199918180278916522431027392251122869539,\n",
        "\t40957953066405232632538044100059654939159879593635,\n",
        "\t29746152185502371307642255121183693803580388584903,\n",
        "\t41698116222072977186158236678424689157993532961922,\n",
        "\t62467957194401269043877107275048102390895523597457,\n",
        "\t23189706772547915061505504953922979530901129967519,\n",
        "\t86188088225875314529584099251203829009407770775672,\n",
        "\t11306739708304724483816533873502340845647058077308,\n",
        "\t82959174767140363198008187129011875491310547126581,\n",
        "\t97623331044818386269515456334926366572897563400500,\n",
        "\t42846280183517070527831839425882145521227251250327,\n",
        "\t55121603546981200581762165212827652751691296897789,\n",
        "\t32238195734329339946437501907836945765883352399886,\n",
        "\t75506164965184775180738168837861091527357929701337,\n",
        "\t62177842752192623401942399639168044983993173312731,\n",
        "\t32924185707147349566916674687634660915035914677504,\n",
        "\t99518671430235219628894890102423325116913619626622,\n",
        "\t73267460800591547471830798392868535206946944540724,\n",
        "\t76841822524674417161514036427982273348055556214818,\n",
        "\t97142617910342598647204516893989422179826088076852,\n",
        "\t87783646182799346313767754307809363333018982642090,\n",
        "\t10848802521674670883215120185883543223812876952786,\n",
        "\t71329612474782464538636993009049310363619763878039,\n",
        "\t62184073572399794223406235393808339651327408011116,\n",
        "\t66627891981488087797941876876144230030984490851411,\n",
        "\t60661826293682836764744779239180335110989069790714,\n",
        "\t85786944089552990653640447425576083659976645795096,\n",
        "\t66024396409905389607120198219976047599490197230297,\n",
        "\t64913982680032973156037120041377903785566085089252,\n",
        "\t16730939319872750275468906903707539413042652315011,\n",
        "\t94809377245048795150954100921645863754710598436791,\n",
        "\t78639167021187492431995700641917969777599028300699,\n",
        "\t15368713711936614952811305876380278410754449733078,\n",
        "\t40789923115535562561142322423255033685442488917353,\n",
        "\t44889911501440648020369068063960672322193204149535,\n",
        "\t41503128880339536053299340368006977710650566631954,\n",
        "\t81234880673210146739058568557934581403627822703280,\n",
        "\t82616570773948327592232845941706525094512325230608,\n",
        "\t22918802058777319719839450180888072429661980811197,\n",
        "\t77158542502016545090413245809786882778948721859617,\n",
        "\t72107838435069186155435662884062257473692284509516,\n",
        "\t20849603980134001723930671666823555245252804609722,\n",
        "\t53503534226472524250874054075591789781264330331690,\n",
        "]\n",
        "print(str(sum(NUMBERS))[ : 10])"
      ],
      "metadata": {
        "id": "YzFbNT5cxFQO"
      },
      "execution_count": null,
      "outputs": []
    },
    {
      "cell_type": "code",
      "source": [
        "#Power digit sum\n",
        "sum = 0\n",
        "for digit in str(2**1000):   \n",
        "  sum=sum+int(digit)        \n",
        "print(sum)"
      ],
      "metadata": {
        "colab": {
          "base_uri": "https://localhost:8080/"
        },
        "id": "vKATJDdYoaDX",
        "outputId": "d6d8e98c-7dd4-40d6-88e6-e70ceac0aebd"
      },
      "execution_count": null,
      "outputs": [
        {
          "output_type": "stream",
          "name": "stdout",
          "text": [
            "1366\n"
          ]
        }
      ]
    },
    {
      "cell_type": "code",
      "source": [
        "#Factorial digit sum\n",
        "import math\n",
        "sum = 0\n",
        "for digit in str(math.factorial(100)):   \n",
        "  sum=sum+int(digit)        \n",
        "print(sum)"
      ],
      "metadata": {
        "colab": {
          "base_uri": "https://localhost:8080/"
        },
        "id": "znt9YExdqLnW",
        "outputId": "42c743e1-dad8-4625-c599-f3741e9543c9"
      },
      "execution_count": null,
      "outputs": [
        {
          "output_type": "stream",
          "name": "stdout",
          "text": [
            "648\n"
          ]
        }
      ]
    },
    {
      "cell_type": "code",
      "source": [
        "#Lattice paths\n",
        "import math\n",
        "r=math.factorial(40)\n",
        "s=math.factorial(20)\n",
        "c=r//s**2\n",
        "print(c)"
      ],
      "metadata": {
        "colab": {
          "base_uri": "https://localhost:8080/"
        },
        "id": "2ZP0t7AitzqX",
        "outputId": "47c331b1-2528-4d40-8bb5-000e32e6dec5"
      },
      "execution_count": null,
      "outputs": [
        {
          "output_type": "stream",
          "name": "stdout",
          "text": [
            "137846528820\n"
          ]
        }
      ]
    },
    {
      "cell_type": "code",
      "source": [
        "#Self powers\n",
        "list=[]\n",
        "for n in range(1,1001):\n",
        "  m=n**n\n",
        "  list.append(m)\n",
        "a=sum(list)%10000000000\n",
        "print(str(a))\n",
        "9110846700"
      ],
      "metadata": {
        "id": "fpeukZIMvQOQ"
      },
      "execution_count": null,
      "outputs": []
    },
    {
      "cell_type": "code",
      "source": [
        "#Largest product in a series\n",
        "a = \"7316717653133062491922511967442657474235534919493496983520312774506326239578318016984801869478851843858615607891129494954595017379583319528532088055111254069874715852386305071569329096329522744304355766896648950445244523161731856403098711121722383113622298934233803081353362766142828064444866452387493035890729629049156044077239071381051585930796086670172427121883998797908792274921901699720888093776657273330010533678812202354218097512545405947522435258490771167055601360483958644670632441572215539753697817977846174064955149290862569321978468622482839722413756570560574902614079729686524145351004748216637048440319989000889524345065854122758866688116427171479924442928230863465674813919123162824586178664583591245665294765456828489128831426076900422421902267105562632111110937054421750694165896040807198403850962455444362981230987879927244284909188845801561660979191338754992005240636899125607176060588611646710940507754100225698315520005593572972571636269561882670428252483600823257530420752963450\"\n",
        "cadena = 13\n",
        "\n",
        "def producto_de_dígitos(n):\n",
        "\tresultado = 1\n",
        "\tfor x in n:\n",
        "\t\tresultado=resultado*int(x)\n",
        "\treturn resultado\n",
        "\t\n",
        "ans = max(producto_de_dígitos(a[i : i + cadena]) for i in range(len(a) - cadena + 1))\n",
        "print(str(ans))"
      ],
      "metadata": {
        "colab": {
          "base_uri": "https://localhost:8080/"
        },
        "id": "IRO58J4J0aoy",
        "outputId": "b3e88a72-cadd-4895-a56c-f7dd48918b0e"
      },
      "execution_count": null,
      "outputs": [
        {
          "output_type": "stream",
          "name": "stdout",
          "text": [
            "23514624000\n"
          ]
        }
      ]
    },
    {
      "cell_type": "code",
      "source": [
        "#Largest product in a grid\n",
        "def producto_de_los_números(x, y, z, w, n):\n",
        "\tresultado = 1\n",
        "\tfor i in range(n):\n",
        "\t\tresultado=resultado*números[y + i * w][x + i * z]\n",
        "\treturn resultado\n",
        "\n",
        "números = [\n",
        "\t[ 8, 2,22,97,38,15, 0,40, 0,75, 4, 5, 7,78,52,12,50,77,91, 8],\n",
        "\t[49,49,99,40,17,81,18,57,60,87,17,40,98,43,69,48, 4,56,62, 0],\n",
        "\t[81,49,31,73,55,79,14,29,93,71,40,67,53,88,30, 3,49,13,36,65],\n",
        "\t[52,70,95,23, 4,60,11,42,69,24,68,56, 1,32,56,71,37, 2,36,91],\n",
        "\t[22,31,16,71,51,67,63,89,41,92,36,54,22,40,40,28,66,33,13,80],\n",
        "\t[24,47,32,60,99, 3,45, 2,44,75,33,53,78,36,84,20,35,17,12,50],\n",
        "\t[32,98,81,28,64,23,67,10,26,38,40,67,59,54,70,66,18,38,64,70],\n",
        "\t[67,26,20,68, 2,62,12,20,95,63,94,39,63, 8,40,91,66,49,94,21],\n",
        "\t[24,55,58, 5,66,73,99,26,97,17,78,78,96,83,14,88,34,89,63,72],\n",
        "\t[21,36,23, 9,75, 0,76,44,20,45,35,14, 0,61,33,97,34,31,33,95],\n",
        "\t[78,17,53,28,22,75,31,67,15,94, 3,80, 4,62,16,14, 9,53,56,92],\n",
        "\t[16,39, 5,42,96,35,31,47,55,58,88,24, 0,17,54,24,36,29,85,57],\n",
        "\t[86,56, 0,48,35,71,89, 7, 5,44,44,37,44,60,21,58,51,54,17,58],\n",
        "\t[19,80,81,68, 5,94,47,69,28,73,92,13,86,52,17,77, 4,89,55,40],\n",
        "\t[ 4,52, 8,83,97,35,99,16, 7,97,57,32,16,26,26,79,33,27,98,66],\n",
        "\t[88,36,68,87,57,62,20,72, 3,46,33,67,46,55,12,32,63,93,53,69],\n",
        "\t[ 4,42,16,73,38,25,39,11,24,94,72,18, 8,46,29,32,40,62,76,36],\n",
        "\t[20,69,36,41,72,30,23,88,34,62,99,69,82,67,59,85,74, 4,36,16],\n",
        "\t[20,73,35,29,78,31,90, 1,74,31,49,71,48,86,81,16,23,57, 5,54],\n",
        "\t[ 1,70,54,71,83,51,54,69,16,92,33,48,61,43,52, 1,89,19,67,48],\n",
        "]\n",
        "consecutivos = 4\n",
        "\n",
        "respuesta = -1\n",
        "ancho = len(números[0])\n",
        "largo = len(números)\n",
        "for y in range(largo):\n",
        "\tfor x in range(ancho):\n",
        "\t\tif x + consecutivos <= ancho:\n",
        "\t\t\trespuesta=max(producto_de_los_números(x, y,  1, 0, consecutivos), respuesta)\n",
        "\t\tif y + consecutivos <= largo:\n",
        "\t\t\trespuesta=max(producto_de_los_números(x, y,  0, 1, consecutivos), respuesta)\n",
        "\t\tif x + consecutivos <= ancho and y + consecutivos <= largo:\n",
        "\t\t\trespuesta=max(producto_de_los_números(x, y,  1, 1, consecutivos), respuesta)\n",
        "\t\tif x - consecutivos >= -1    and y + consecutivos <= largo:\n",
        "\t\t\trespuesta=max(producto_de_los_números(x, y, -1, 1, consecutivos), respuesta)\n",
        "\t\t\t\n",
        "print(str(respuesta))"
      ],
      "metadata": {
        "colab": {
          "base_uri": "https://localhost:8080/"
        },
        "id": "DLf6Q4k0BJQf",
        "outputId": "8b51d7ca-947a-4d59-dada-19f522ae0cd7"
      },
      "execution_count": null,
      "outputs": [
        {
          "output_type": "stream",
          "name": "stdout",
          "text": [
            "70600674\n"
          ]
        }
      ]
    },
    {
      "cell_type": "code",
      "source": [
        "#1000-digit Fibonacci number\n",
        "a,b,c,cont = 0,1,0,1\n",
        "while len(str(c))<1000:\n",
        "    c = a + b\n",
        "    a = b\n",
        "    b = c\n",
        "    cont+=1\n",
        "print(cont)"
      ],
      "metadata": {
        "colab": {
          "base_uri": "https://localhost:8080/"
        },
        "id": "qGNELkqNIPO_",
        "outputId": "fd81db20-0b94-44b7-add7-e3a2c9ee821c"
      },
      "execution_count": null,
      "outputs": [
        {
          "output_type": "stream",
          "name": "stdout",
          "text": [
            "4782\n"
          ]
        }
      ]
    },
    {
      "cell_type": "code",
      "source": [
        "#Number letter counts\n",
        "unidades=['zero', 'one', 'two', 'three', 'four', 'five', 'six', 'seven', 'eight', 'nine','ten', 'eleven', 'twelve', 'thirteen', 'fourteen', 'fifteen', 'sixteen', 'seventeen', 'eighteen', 'nineteen']\n",
        "decenas= ['', '', 'twenty', 'thirty', 'forty', 'fifty', 'sixty', 'seventy', 'eighty', 'ninety']\n",
        "list=['onethousand']\n",
        "def letras(n):\n",
        "  if 0 <= n < 20:\n",
        "\t  return unidades[n]\n",
        "  elif 20 <= n < 100:\n",
        "    return decenas[n//10] + unidades[n % 10]\n",
        "  elif 100 <= n < 1000:\n",
        "\t  return unidades[n//100] + \"hundred\" + \"and\" + letras(n % 100)\n",
        "   \n",
        "for n in range(1,1000):\n",
        "  m=letras(n)\n",
        "  list.append(m)\n",
        "sum=0\n",
        "for i in range(len(list)):\n",
        "  sum= len(list[i])+sum\n",
        "print(sum)"
      ],
      "metadata": {
        "id": "fHfTfMcQJxPI"
      },
      "execution_count": null,
      "outputs": []
    }
  ]
}